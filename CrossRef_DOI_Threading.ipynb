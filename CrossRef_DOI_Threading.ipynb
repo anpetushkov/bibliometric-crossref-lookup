{
  "nbformat": 4,
  "nbformat_minor": 0,
  "metadata": {
    "colab": {
      "name": "CrossRef DOI Threading.ipynb",
      "provenance": []
    },
    "kernelspec": {
      "name": "python3",
      "display_name": "Python 3"
    },
    "language_info": {
      "name": "python"
    }
  },
  "cells": [
    {
      "cell_type": "code",
      "source": [
        "from time import sleep\n",
        "\n",
        "import pandas as pd\n",
        "import requests\n"
      ],
      "metadata": {
        "id": "qEvdccctOIX3"
      },
      "execution_count": null,
      "outputs": []
    },
    {
      "cell_type": "code",
      "source": [
        "df = pd.DataFrame()\n",
        "start = 0\n",
        "dois = []"
      ],
      "metadata": {
        "id": "xK3H3N4-OJSj"
      },
      "execution_count": null,
      "outputs": []
    },
    {
      "cell_type": "code",
      "source": [
        "#TO DO--MAKE REQUESTS RUN CONCURRENTLY & ADAPTABLE FOR BOTH MEDRXIV AND BIORXIV\n",
        "#CROSSREF MAX QUERIES: 50 / SECOND\n",
        "database = 'biorxiv'\n",
        "start_date = '2019-01-01'\n",
        "end_date = '2022-02-09'"
      ],
      "metadata": {
        "id": "nQtleAjKdYHQ"
      },
      "execution_count": null,
      "outputs": []
    },
    {
      "cell_type": "code",
      "execution_count": null,
      "metadata": {
        "id": "9CeOI0JdOGuq"
      },
      "outputs": [],
      "source": [
        "while True:\n",
        "    try:\n",
        "        r = requests.get(f'https://api.{database}.org/details/{database}/{start_date}/{end_date}/{start}', '')\n",
        "    except:\n",
        "        sleep(60)\n",
        "        r = requests.get(f'https://api.{database}.org/details/{database}/{start_date}/{end_date}/{start}', '')\n",
        "    j = r.json()\n",
        "    r.close()\n",
        "    if j['messages'][0]['status'] == 'no posts found': break\n",
        "    for article in j['collection']:\n",
        "        try:\n",
        "            dois.append(article['doi'])\n",
        "        except:\n",
        "            pass\n",
        "    start += 100\n",
        "    #sleep(60)\n",
        "\n",
        "    if start % 2 == 0:\n",
        "        df = pd.DataFrame() \n",
        "        df['doi'] = dois\n",
        "        df.to_csv(f'{database} doi data.csv')\n",
        "\n"
      ]
    },
    {
      "cell_type": "code",
      "source": [
        "z = list(set(dois))"
      ],
      "metadata": {
        "id": "d_8z2Che6kND"
      },
      "execution_count": null,
      "outputs": []
    },
    {
      "cell_type": "code",
      "source": [
        "df.to_csv(f'{database}_{start_date}-{end_date}_dois.csv')"
      ],
      "metadata": {
        "id": "3xv2qHDL63JT"
      },
      "execution_count": null,
      "outputs": []
    },
    {
      "cell_type": "code",
      "source": [
        "import queue\n",
        "import threading\n",
        "from time import sleep\n",
        "import time\n"
      ],
      "metadata": {
        "id": "EhaNcp6cOxU5"
      },
      "execution_count": null,
      "outputs": []
    },
    {
      "cell_type": "code",
      "source": [
        "df = pd.read_csv('')\n",
        "df.drop_duplicates('doi', inplace=True)\n",
        "temp = set(list(df['doi']))\n",
        "df['first_names'] = ''\n",
        "df['last_names'] = ''\n",
        "df['title'] = ''\n",
        "df.set_index('doi', inplace=True)"
      ],
      "metadata": {
        "id": "mHrRiCS8iZlh"
      },
      "execution_count": null,
      "outputs": []
    },
    {
      "cell_type": "code",
      "source": [
        "df = pd.read_csv('/content/biorxiv_2019-2022_dois.csv')\n",
        "df.drop_duplicates('doi', inplace=True)\n",
        "temp = set(list(df['doi']))\n",
        "df['first_names'] = ''\n",
        "df['last_names'] = ''\n",
        "df['title'] = ''\n",
        "df.set_index('doi', inplace=True)"
      ],
      "metadata": {
        "id": "mHyYUgpuECg_"
      },
      "execution_count": null,
      "outputs": []
    },
    {
      "cell_type": "code",
      "source": [
        "df['first_names'] = ''\n",
        "df['last_names'] = ''\n",
        "df['title'] = ''"
      ],
      "metadata": {
        "id": "W4wiNLJA7KGv"
      },
      "execution_count": null,
      "outputs": []
    },
    {
      "cell_type": "code",
      "source": [
        "df.head()"
      ],
      "metadata": {
        "id": "q19Oy-JUiDLu"
      },
      "execution_count": null,
      "outputs": []
    },
    {
      "cell_type": "code",
      "source": [
        "first = {}\n",
        "last = {}\n",
        "titles = {}\n",
        "\n",
        "for i in df.index:\n",
        "    first[i] = []\n",
        "    last[i] = []\n",
        "    titles[i] = ''"
      ],
      "metadata": {
        "id": "mHNtj9TxZjgH"
      },
      "execution_count": null,
      "outputs": []
    },
    {
      "cell_type": "code",
      "source": [
        "def get_authors():\n",
        "    while True:\n",
        "        try:\n",
        "            doi = q.get(block=False)[0]\n",
        "        except queue.Empty:\n",
        "            break\n",
        "        if df.loc[doi, 'first_names'] != '':\n",
        "            print('repeat?')\n",
        "            q.task_done\n",
        "        else:\n",
        "            _start = time.time()\n",
        "\n",
        "            cross_ref(doi)\n",
        "\n",
        "            _end = time.time()\n",
        "            if _end - _start < 1:\n",
        "                sleep(1 - (_end - _start))\n",
        "            q.task_done()\n"
      ],
      "metadata": {
        "id": "rRn2N-z4SonQ"
      },
      "execution_count": null,
      "outputs": []
    },
    {
      "cell_type": "code",
      "source": [
        "def cross_ref(url):\n",
        "    _f = []\n",
        "    _l = []\n",
        "    r = requests.get(f'https://api.crossref.org/v1/works/{url}')\n",
        "    if r.text == 'Resource not found.' or r.status_code != 200:\n",
        "        print('not found: ', url)\n",
        "        df.loc[url, 'title'] = ''\n",
        "        return\n",
        "    j = r.json()\n",
        "    r.close()\n",
        "    try:\n",
        "        for author in j['message']['author']:\n",
        "            _f.append(str(author['given']))\n",
        "            _l.append(str(author['family']))\n",
        "    except:\n",
        "        pass\n",
        "\n",
        "    titles[url] = j['message']['title'][0]\n",
        "    first[url] = _f\n",
        "    last[url] = _l\n",
        "    df.loc[url, 'title'] = j['message']['title'][0]\n",
        "    df.loc[url, 'first_names'] = f'{_f}'\n",
        "    df.loc[url, 'last_names'] = f'{_l}'\n",
        "    return"
      ],
      "metadata": {
        "id": "jAsnLJ3RVsbh"
      },
      "execution_count": null,
      "outputs": []
    },
    {
      "cell_type": "code",
      "source": [
        "NUM_THREADS = 40\n",
        "threads = []\n",
        "\n",
        "q = queue.Queue()\n",
        "\n",
        "for d in temp:\n",
        "    q.put([d])\n",
        "\n",
        "for _ in range(NUM_THREADS):\n",
        "    threads.append(threading.Thread(target=get_authors))\n",
        "\n",
        "for thread in threads:\n",
        "    thread.start()\n",
        "\n",
        "for thread in threads:\n",
        "    thread.join()\n",
        "\n",
        "df.to_csv(f'{database}_with_names_2_11.csv')"
      ],
      "metadata": {
        "id": "RQXIwalcT2ia"
      },
      "execution_count": null,
      "outputs": []
    },
    {
      "cell_type": "code",
      "source": [
        "first_names = pd.DataFrame(first)\n",
        "first_names.to_csv('biorxiv_first_names.csv')\n",
        "last_names = pd.DataFrame(last)\n",
        "last_names.to_csv('biorxiv_last_names.csv')\n",
        "titless = pd.DataFrame(titles)\n",
        "titless.to_csv('biorxiv_titles.csv')"
      ],
      "metadata": {
        "id": "gtv4zeuWiQ24"
      },
      "execution_count": null,
      "outputs": []
    },
    {
      "cell_type": "code",
      "source": [
        ""
      ],
      "metadata": {
        "id": "IDYLAAUCAT2j"
      },
      "execution_count": null,
      "outputs": []
    }
  ]
}